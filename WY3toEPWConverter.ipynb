{
 "cells": [
  {
   "cell_type": "markdown",
   "metadata": {},
   "source": [
    "# Description\n",
    "### Goal of this script is to convert historical weather files stored in WY3 format into EPW format so it could be used for Building Energy Simulation"
   ]
  },
  {
   "cell_type": "markdown",
   "metadata": {},
   "source": [
    "# Library Import"
   ]
  },
  {
   "cell_type": "code",
   "execution_count": 18,
   "metadata": {},
   "outputs": [],
   "source": [
    "import os\n",
    "import pandas as pd \n",
    "import glob\n",
    "import numpy as np\n",
    "from pathlib import Path"
   ]
  },
  {
   "cell_type": "markdown",
   "metadata": {},
   "source": [
    "# Step 1 - Set File Paths"
   ]
  },
  {
   "source": [
    "## Option 1 - Single Location Setup"
   ],
   "cell_type": "markdown",
   "metadata": {}
  },
  {
   "cell_type": "code",
   "execution_count": 16,
   "metadata": {},
   "outputs": [],
   "source": [
    "#Path to historical weather data in wy3 format\n",
    "CWEEDsPath=r'..\\Weather Files - Before Conversion\\CWEEDs\\CAN_QC_AMQUI_7050145_CWEEDS2011_1998-2017.WY3'\n",
    "\n",
    "#Path to typical weather data in epw format\n",
    "CWECPath=r'..\\Weather Files - Before Conversion\\CWEC\\CAN_QC_AMQUI_7050145_CWEC.EPW'\n",
    "\n",
    "#Path to OutputFolder - if folder does not exist the subsequent scripts will create a folder\n",
    "OutputFolder=r'..\\Weather Files - After Conversion\\CAN_QC_AMQUI_7050145'"
   ]
  },
  {
   "source": [
    "## Option 2 - Batch Process Setup"
   ],
   "cell_type": "markdown",
   "metadata": {}
  },
  {
   "cell_type": "code",
   "execution_count": 19,
   "metadata": {},
   "outputs": [],
   "source": [
    "#Path to folder with all Historical Weather Data in wy3 format\n",
    "CWEEDsAllPath=Path(r'..\\Weather Files - Before Conversion\\CWEEDs')\n",
    "\n",
    "#Path to folder with all Typical Year Weather Data in EPW format\n",
    "CWECAllPath=Path(r'..\\Weather Files - Before Conversion\\CWEC')\n",
    "\n",
    "OutputFolder=r'..\\Weather Files - After Conversion\\BatchOutput'\n",
    "\n",
    "#CreatePath function creates a dataframe that matches the paths to historical and typical weather data based on weather station code used in the file name - please note the files have to be in the naming convention used by Environment and Climate Change Canada - \n",
    "WeatherFilePathList=CreatePath(CWEEDsAllPath,CWECAllPath)"
   ]
  },
  {
   "source": [
    "# Step 2 - Export"
   ],
   "cell_type": "markdown",
   "metadata": {}
  },
  {
   "cell_type": "markdown",
   "metadata": {},
   "source": [
    "## Option 1 - Single Location Export"
   ]
  },
  {
   "cell_type": "code",
   "execution_count": 17,
   "metadata": {},
   "outputs": [
    {
     "output_type": "execute_result",
     "data": {
      "text/plain": [
       "'Process Complete'"
      ]
     },
     "metadata": {},
     "execution_count": 17
    }
   ],
   "source": [
    "#Converts weather data in wy3 format into epw format \n",
    "EPWDataset=WY3toEPW(CWEEDsPath)\n",
    "\n",
    "#Splits histrorical weather data\n",
    "EPWAssemble(EPWDataset, CWECPath, OutputFolder)"
   ]
  },
  {
   "source": [
    "## Option 2 - Batch Processing "
   ],
   "cell_type": "markdown",
   "metadata": {}
  },
  {
   "cell_type": "code",
   "execution_count": 20,
   "metadata": {},
   "outputs": [],
   "source": [
    "#Runs Option 1 in a for loop - outputs files in separate folders based on location\n",
    "\n",
    "for index, row in WeatherFilePathList.iterrows():\n",
    "    CWEEDsPath=row['CWEEDsPath']\n",
    "    CWECPath=row['CWECPath']\n",
    "    Location=row['StationNumber']+ \"_\" + row['Location']\n",
    "    OutputPath=os.path.join(OutputFolder,Location)\n",
    "\n",
    "    \n",
    "    EPWDataset=WY3toEPW(CWEEDsPath)\n",
    "    EPWAssemble(EPWDataset, CWECPath, OutputPath)\n",
    "    "
   ]
  },
  {
   "cell_type": "code",
   "execution_count": null,
   "metadata": {},
   "outputs": [],
   "source": []
  },
  {
   "cell_type": "markdown",
   "metadata": {},
   "source": [
    "# Functions"
   ]
  },
  {
   "cell_type": "code",
   "execution_count": 4,
   "metadata": {},
   "outputs": [],
   "source": [
    "def CreatePath(CWEEDsAllPath1,CWECAllPath1):\n",
    "    CWEEDsAllPath=CWEEDsAllPath1\n",
    "    CWECAllPath=CWECAllPath1\n",
    "    \n",
    "    #List files in Folder\n",
    "    CWEEDsAllPathList=pd.DataFrame(list(CWEEDsAllPath.glob('*')),columns=['Path'])\n",
    "    CWECAllPathList=pd.DataFrame(list(CWECAllPath.glob('*')),columns=['Path'])\n",
    "\n",
    "    #Converts Path to String and create new col for info extraction\n",
    "    CWEEDsAllPathList['Pathstr']=CWEEDsAllPathList['Path'].astype('str') \n",
    "    CWECAllPathList['Pathstr']=CWECAllPathList['Path'].astype('str') \n",
    "\n",
    "    #Extract Station Number, Location and Year(for CWEEDs)\n",
    "    CWEEDsAllPathList['Location']= CWEEDsAllPathList['Pathstr'].str.split(pat=\"_\").str[2]\n",
    "    CWEEDsAllPathList['StationNumber']= CWEEDsAllPathList['Pathstr'].str.split(pat=\"_\").str[3]\n",
    "    CWEEDsAllPathList['Years']= CWEEDsAllPathList['Pathstr'].str.split(pat=\"_\").str[5].str.split(pat=\".\").str[0]\n",
    "\n",
    "    CWECAllPathList['Location']= CWECAllPathList['Pathstr'].str.split(pat=\"_\").str[2]\n",
    "    CWECAllPathList['StationNumber']= CWECAllPathList['Pathstr'].str.split(pat=\"_\").str[3]\n",
    "\n",
    "    #Drop pathstr col\n",
    "    CWEEDsAllPathList=CWEEDsAllPathList.drop('Pathstr',axis=1)\n",
    "    CWECAllPathList=CWECAllPathList.drop('Pathstr',axis=1)\n",
    "\n",
    "    #Merge CWEEDs and CWEC Path list\n",
    "    WeatherFilePathList=pd.merge(CWEEDsAllPathList,CWECAllPathList, on='StationNumber')\n",
    "    WeatherFilePathList=WeatherFilePathList.drop('Location_y',axis=1)\n",
    "\n",
    "    WeatherFilePathList=WeatherFilePathList.rename(columns={\"Path_x\":\"CWEEDsPath\",\"Path_y\":\"CWECPath\",\"Location_x\":\"Location\"})\n",
    "\n",
    "    WeatherFilePathList=WeatherFilePathList[[\"StationNumber\",\"Location\",\"Years\",\"CWEEDsPath\",\"CWECPath\"]]\n",
    "\n",
    "    WeatherFilePathList\n",
    "    \n",
    "    return WeatherFilePathList"
   ]
  },
  {
   "cell_type": "code",
   "execution_count": 5,
   "metadata": {},
   "outputs": [],
   "source": [
    "def WY3toEPW(CWEEDsfilepath):\n",
    "\n",
    "    FilePath=CWEEDsfilepath\n",
    "\n",
    "    VarWidth = [7,1,4,2,2,2,4,4,2,4,2,4,2,4,1,4,1,4,1,4,1,2,1,4,1,4,1,4,1,8,1,5,1,4,1,4,1,3,1,4,1,2,1,2,1,1,1]\n",
    "    VarName = ['Station','SourceCode','Year','Month','Day','Hour','ExtIr','GlobHorIr','GlobHorIrFlag','DirNormIr','DirNormIrFlag','DifHorIr','DifHorIrFlag','GloHorIllum',      'GloHorIllumFlag','DirNormIllum','DirNormIllumFlag','DifHorIllum','DifHorIllumFlag','ZenIll','ZenIllFlag','MinSun','MinSunFlag','CeilHeight','CeilHeightFlag','SkyCondition','SkyConditionFlag','Visibility','VisibilityFlag','PresentWeather','PresentWeatherFlag','StationPressure','StationPressureFlag','DryBulbTemp','DryBulbTempFlag','DewPointTemp','DewPointTempFlag','WindDir','WindDirFlag','WindSpeed','WindSpeedFlag','TotSkyCov','TotSkyCovFlag','OpSkyCov','OpSkyCovFlag','SnowCov','SnowCovFlag']\n",
    "    df=[]\n",
    "    df=pd.read_fwf(FilePath,widths=VarWidth,names=VarName,skiprows=1)\n",
    "\n",
    "#df \n",
    "    epwVarName=['Year','Month','Day','Hour','Minute','Datasource','DryBulb','DewPoint','RelHum','AtmosPressure','ExtHorzRad','ExtDirRad','HorzIRSky','GloHorzRad','DirNormRad','DifHorzRad','GloHorzIllum','DirNormIllum','DifHorzIllum','ZenLum','WindDir','WindSpd','TotSkyCvr','OpaqSkyCvr','Visibility','CeilingHgt','PresWeathObs','PresWeathCodes','PrecipWtr','AerosolOptDepth','SnowDepth','DaysLastSnow','Albedo','Rain','RainQuantity']\n",
    "\n",
    "    epw=[]\n",
    "    epw=pd.DataFrame(columns=epwVarName)\n",
    "    epw.Year=df.Year\n",
    "    epw.Month=df.Month\n",
    "    epw.Day=df.Day\n",
    "    epw.Hour=df.Hour\n",
    "    epw.Minute=0\n",
    "    epw.Datasource='?9?9?9?9E0?9?9?9?9?9?9?9*9?9?9?9?9?9*9*_?9*9'\n",
    "    epw.DryBulb=df.DryBulbTemp*0.1\n",
    "    epw.DewPoint=df.DewPointTemp*0.1\n",
    "\n",
    "    #Relative Humidity \n",
    "    ## Refer to http://www.bom.gov.au/climate/averages/climatology/relhum/calc-rh.pdf\n",
    "    RH=[]\n",
    "\n",
    "    RHVarName=['V','R','RelH']\n",
    "    RH=pd.DataFrame(columns=RHVarName)\n",
    "    RH.V=100*(np.exp(1.8096+((17.2694*epw.DewPoint)/(237.3+epw.DewPoint))))\n",
    "    RH.R=np.exp(1.8096+((17.2694*epw.DryBulb)/(237.3+epw.DryBulb)))\n",
    "    RH.RelH=RH.V/RH.R\n",
    "\n",
    "    epw.RelHum=RH.RelH\n",
    "    epw.AtmosPressure=10*df.StationPressure\n",
    "    epw.ExtHorzRad=df.ExtIr/3.6\n",
    "    epw.ExtDirRad='9999'\n",
    "    epw.HorzIRSky='9999'\n",
    "    epw.GloHorzRad=df.GlobHorIr/3.6\n",
    "    epw.DirNormRad=df.DirNormIr/3.6\n",
    "    epw.DifHorzRad=df.DifHorIr/3.6\n",
    "    epw.GloHorzIllum=df.GloHorIllum*100\n",
    "    epw.DirNormIllum=df.DirNormIllum*100\n",
    "    epw.DifHorzIllum=df.DifHorIllum*100\n",
    "    epw.ZenLum=df.ZenIll*100\n",
    "    epw.WindDir=df.WindDir\n",
    "    epw.WindSpd=df.WindSpeed/(10)\n",
    "    epw.TotSkyCvr=df.TotSkyCov\n",
    "    epw.OpaqSkyCvr=df.OpSkyCov\n",
    "    epw.Visibility=df.Visibility/(10)\n",
    "    epw.CeilingHgt=df.CeilHeight*10\n",
    "    epw.PresWeathObs='9'\n",
    "    epw.PresWeathCodes=df.PresentWeather\n",
    "    epw.PrecipWtr='999'\n",
    "    epw.AerosolOptDepth='999'\n",
    "    epw.SnowDepth=df.SnowCov\n",
    "    epw.DaysLastSnow='88'\n",
    "    epw.Albedo='999'\n",
    "    epw.Rain='999'\n",
    "    epw.RainQuantity='99'\n",
    "\n",
    "    epw.index=pd.to_datetime(epw[['Year', 'Month', 'Day', 'Hour', 'Minute']])\n",
    "\n",
    "    return epw\n"
   ]
  },
  {
   "cell_type": "code",
   "execution_count": 6,
   "metadata": {},
   "outputs": [],
   "source": [
    "def EPWAssemble(EPWDataset, CWECPath, OutputPath):\n",
    "\n",
    "    Dataset=EPWDataset\n",
    "    HeaderPath=CWECPath\n",
    "    OutputFolder=OutputPath\n",
    "\n",
    "    os.makedirs(OutputPath, exist_ok = True)\n",
    "\n",
    "\n",
    "    with open(HeaderPath,\"r\") as file:\n",
    "        Headerlines = file.readlines()[0:8]\n",
    "\n",
    "    UniqueYears=Dataset['Year'].unique()\n",
    "    i=0\n",
    "\n",
    "    while i < len(UniqueYears):\n",
    "        Year=UniqueYears[i]\n",
    "        EPWDatasetYear=Dataset[Dataset['Year'] == UniqueYears[i]]\n",
    "        WritePath = OutputFolder + f'\\{Year}.csv'\n",
    "        EPWDatasetYear.to_csv(WritePath, index=False, header=False)\n",
    "        with open(WritePath, 'r') as file:\n",
    "            Data = file.readlines()\n",
    "\n",
    "        HeaderDataCombine=Headerlines+Data\n",
    "        HeaderDataCombine=[row.replace('\\n', '') for row in HeaderDataCombine]\n",
    "        output_string = '\\n'.join(HeaderDataCombine)\n",
    "\n",
    "        with open(WritePath.replace('.csv', '.epw'), 'w') as outfile:\n",
    "            outfile.write(output_string)\n",
    "            os.remove(WritePath)\n",
    "        i=i+1\n",
    "\n",
    "    return 'Process Complete'"
   ]
  }
 ],
 "metadata": {
  "kernelspec": {
   "display_name": "Python 3",
   "language": "python",
   "name": "python3"
  },
  "language_info": {
   "codemirror_mode": {
    "name": "ipython",
    "version": 3
   },
   "file_extension": ".py",
   "mimetype": "text/x-python",
   "name": "python",
   "nbconvert_exporter": "python",
   "pygments_lexer": "ipython3",
   "version": "3.7.3-final"
  }
 },
 "nbformat": 4,
 "nbformat_minor": 2
}